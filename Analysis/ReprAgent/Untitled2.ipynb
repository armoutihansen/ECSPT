{
 "cells": [
  {
   "cell_type": "code",
   "execution_count": 92,
   "id": "f2106d56",
   "metadata": {},
   "outputs": [],
   "source": [
    "import numpy as np\n",
    "import pandas as pd\n",
    "from scipy.optimize import minimize\n",
    "from scipy.special import softmax, log_softmax"
   ]
  },
  {
   "cell_type": "code",
   "execution_count": 93,
   "id": "8233a195",
   "metadata": {},
   "outputs": [],
   "source": [
    "data = pd.read_csv('../Data/choices_exp1_ext.csv')"
   ]
  },
  {
   "cell_type": "code",
   "execution_count": 166,
   "id": "b9a347d3",
   "metadata": {},
   "outputs": [],
   "source": [
    "def loglik(params, data, y, self_x, other_x, self_y, other_y,\n",
    "          indicators_x, indicators_y):\n",
    "\n",
    "    sigma = params[-1]\n",
    "    \n",
    "    if len(params)>1:\n",
    "        regs = params[0:-1]\n",
    "        \n",
    "        lli = np.dot(indicators_x,np.array(regs))\n",
    "        rli = np.dot(indicators_y,np.array(regs))\n",
    "        \n",
    "        uleft = sigma*((1-lli)*self_x+lli*other_x)\n",
    "        uright = sigma*((1-rli)*self_y+rli*other_y)\n",
    "        \n",
    "    else:\n",
    "        uleft = sigma*self_x\n",
    "        uright = sigma*self_y\n",
    "    \n",
    "    probs = log_softmax([uleft,uright], axis=0).T[:,0]*y + \\\n",
    "            log_softmax([uleft,uright], axis=0).T[:,1]*(1-y)\n",
    "\n",
    "\n",
    "    \n",
    "    return -1*np.sum(probs) "
   ]
  },
  {
   "cell_type": "code",
   "execution_count": 96,
   "id": "a551bf00",
   "metadata": {},
   "outputs": [],
   "source": [
    "y = data['choice_x']\n",
    "self_x = data['self_x']\n",
    "self_y = data['self_y']\n",
    "other_x = data['other_x']\n",
    "other_y = data['other_y']\n",
    "data['g']=1\n",
    "indicators_x = data[['g']]\n",
    "indicators_y = data[['g']]"
   ]
  },
  {
   "cell_type": "code",
   "execution_count": 134,
   "id": "d6db467c",
   "metadata": {},
   "outputs": [],
   "source": [
    "params0 = [np.random.uniform(-1,1),np.random.uniform(0,0.01)]\n",
    "res = minimize(loglik, params0, args=(data),\n",
    "              method='BFGS', options={'disp': False, 'gtol':1e-7*len(data)})"
   ]
  },
  {
   "cell_type": "code",
   "execution_count": 135,
   "id": "5819eb69",
   "metadata": {},
   "outputs": [
    {
     "data": {
      "text/plain": [
       "      fun: 7289.0477677649105\n",
       " hess_inv: array([[ 1.94539824e-05, -9.95260372e-08],\n",
       "       [-9.95260372e-08,  2.60774070e-08]])\n",
       "      jac: array([-0.00018311, -0.00085449])\n",
       "  message: 'Optimization terminated successfully.'\n",
       "     nfev: 48\n",
       "      nit: 10\n",
       "     njev: 16\n",
       "   status: 0\n",
       "  success: True\n",
       "        x: array([0.16595335, 0.01278581])"
      ]
     },
     "execution_count": 135,
     "metadata": {},
     "output_type": "execute_result"
    }
   ],
   "source": [
    "res"
   ]
  },
  {
   "cell_type": "code",
   "execution_count": 154,
   "id": "b205c303",
   "metadata": {},
   "outputs": [],
   "source": [
    "indicators_x = data[['s_x','r_x','q','v']]\n",
    "indicators_y = data[['s_y','r_y','q','v']]"
   ]
  },
  {
   "cell_type": "code",
   "execution_count": 155,
   "id": "183aab66",
   "metadata": {},
   "outputs": [],
   "source": [
    "params0 = [np.random.uniform(-1,1),np.random.uniform(-1,1),\n",
    "           np.random.uniform(-1,1),np.random.uniform(-1,1),\n",
    "           np.random.uniform(0,0.01)]\n",
    "res = minimize(loglik, params0, args=(data),\n",
    "              method='BFGS', options={'disp': False, 'gtol':1e-7*len(data)})"
   ]
  },
  {
   "cell_type": "code",
   "execution_count": 156,
   "id": "18d7eb30",
   "metadata": {},
   "outputs": [
    {
     "data": {
      "text/plain": [
       "      fun: 7068.38455778586\n",
       " hess_inv: array([[ 8.44162486e-05,  2.79690327e-05, -5.70166812e-05,\n",
       "        -5.55911278e-05, -5.36880303e-08],\n",
       "       [ 2.79690327e-05,  8.25707450e-05, -5.41881088e-05,\n",
       "        -5.60923524e-05, -1.51796263e-07],\n",
       "       [-5.70166812e-05, -5.41881088e-05,  1.10435336e-04,\n",
       "         5.76735780e-05, -2.52270444e-08],\n",
       "       [-5.55911278e-05, -5.60923524e-05,  5.76735780e-05,\n",
       "         1.13889332e-04,  3.51828179e-08],\n",
       "       [-5.36880303e-08, -1.51796263e-07, -2.52270444e-08,\n",
       "         3.51828179e-08,  2.75343508e-08]])\n",
       "      jac: array([-6.10351562e-05,  1.22070312e-04,  6.10351562e-05,  6.10351562e-05,\n",
       "       -1.83105469e-03])\n",
       "  message: 'Optimization terminated successfully.'\n",
       "     nfev: 132\n",
       "      nit: 15\n",
       "     njev: 22\n",
       "   status: 0\n",
       "  success: True\n",
       "        x: array([ 0.06024037,  0.24828066,  0.07248044, -0.04791563,  0.01314331])"
      ]
     },
     "execution_count": 156,
     "metadata": {},
     "output_type": "execute_result"
    }
   ],
   "source": [
    "res"
   ]
  },
  {
   "cell_type": "code",
   "execution_count": null,
   "id": "94e08b36",
   "metadata": {},
   "outputs": [],
   "source": [
    "lli"
   ]
  },
  {
   "cell_type": "code",
   "execution_count": null,
   "id": "a13e0f3d",
   "metadata": {},
   "outputs": [],
   "source": [
    "0.5*(1-lli)*self_x"
   ]
  },
  {
   "cell_type": "code",
   "execution_count": null,
   "id": "162da0b0",
   "metadata": {},
   "outputs": [],
   "source": [
    "self_x"
   ]
  },
  {
   "cell_type": "code",
   "execution_count": 143,
   "id": "d53f8f59",
   "metadata": {},
   "outputs": [
    {
     "data": {
      "text/plain": [
       "array([ 0.06024039,  0.24828067,  0.07248043, -0.04791564,  0.01314331])"
      ]
     },
     "execution_count": 143,
     "metadata": {},
     "output_type": "execute_result"
    }
   ],
   "source": [
    "res.x"
   ]
  },
  {
   "cell_type": "code",
   "execution_count": 145,
   "id": "830b61f8",
   "metadata": {},
   "outputs": [
    {
     "data": {
      "text/plain": [
       "0.34720427143068305"
      ]
     },
     "execution_count": 145,
     "metadata": {},
     "output_type": "execute_result"
    }
   ],
   "source": [
    "loglik(res.x,data)/len(data)"
   ]
  },
  {
   "cell_type": "code",
   "execution_count": 147,
   "id": "dee1440b",
   "metadata": {},
   "outputs": [],
   "source": [
    "from sklearn.model_selection import train_test_split\n",
    "train, test = train_test_split(data, train_size=0.7, stratify=data['sid'], random_state=181, shuffle=True)"
   ]
  },
  {
   "cell_type": "code",
   "execution_count": 149,
   "id": "63dac4f7",
   "metadata": {},
   "outputs": [
    {
     "data": {
      "text/plain": [
       "7068.384557785846"
      ]
     },
     "execution_count": 149,
     "metadata": {},
     "output_type": "execute_result"
    }
   ],
   "source": [
    "loglik(res.x,test)"
   ]
  },
  {
   "cell_type": "code",
   "execution_count": 178,
   "id": "e5d98807",
   "metadata": {},
   "outputs": [],
   "source": [
    "def estim(data, label_y, label_self_x, label_other_x, label_self_y,\n",
    "          label_other_y, label_indicators_x, label_indicators_y, params=None):\n",
    "    \n",
    "    y = data[label_y]\n",
    "    self_x = data[label_self_x]\n",
    "    self_y = data[label_self_y]\n",
    "    other_x = data[label_other_x]\n",
    "    other_y = data[label_other_y]\n",
    "    indicators_x = data[label_indicators_x]\n",
    "    indicators_y = data[label_indicators_y]\n",
    "    \n",
    "    if params is None:\n",
    "        par1 = [np.random.uniform(-1,1) for i in range(len(label_indicators_x))]\n",
    "        params0 = par1 + [np.random.uniform(0,0.5)]\n",
    "    \n",
    "        res = minimize(loglik, params0, args=(data, y, self_x, other_x, self_y, other_y,\n",
    "              indicators_x, indicators_y),\n",
    "                  method='BFGS', options={'disp': False, 'gtol':1e-7*len(data)})\n",
    "\n",
    "    else:\n",
    "        res = loglik(params, data, y, self_x, other_x, self_y, other_y,\n",
    "              indicators_x, indicators_y)\n",
    "    \n",
    "    return res"
   ]
  },
  {
   "cell_type": "code",
   "execution_count": 179,
   "id": "d7213fe3",
   "metadata": {},
   "outputs": [
    {
     "data": {
      "text/plain": [
       "[1, 2, 0]"
      ]
     },
     "execution_count": 179,
     "metadata": {},
     "output_type": "execute_result"
    }
   ],
   "source": [
    "[1,2] + [0]"
   ]
  },
  {
   "cell_type": "code",
   "execution_count": 180,
   "id": "11a6a8a2",
   "metadata": {},
   "outputs": [],
   "source": [
    "dd = estim(data, 'choice_x', 'self_x', 'other_x',\n",
    "     'self_y', 'other_y', ['s_x','r_x'], ['s_y','r_y'])"
   ]
  },
  {
   "cell_type": "code",
   "execution_count": 181,
   "id": "3d9332cf",
   "metadata": {},
   "outputs": [
    {
     "data": {
      "text/plain": [
       "array([0.0696009 , 0.2573429 , 0.01303487])"
      ]
     },
     "execution_count": 181,
     "metadata": {},
     "output_type": "execute_result"
    }
   ],
   "source": [
    "dd.x"
   ]
  },
  {
   "cell_type": "code",
   "execution_count": 185,
   "id": "f1d17ee7",
   "metadata": {},
   "outputs": [
    {
     "data": {
      "text/plain": [
       "0.348184290452675"
      ]
     },
     "execution_count": 185,
     "metadata": {},
     "output_type": "execute_result"
    }
   ],
   "source": [
    "estim(test, 'choice_x', 'self_x', 'other_x',\n",
    "     'self_y', 'other_y', ['s_x','r_x'], ['s_y','r_y'], params=dd.x)/len(test)"
   ]
  },
  {
   "cell_type": "code",
   "execution_count": 183,
   "id": "ba005636",
   "metadata": {},
   "outputs": [
    {
     "data": {
      "text/plain": [
       "      fun: 7133.97340220822\n",
       " hess_inv: array([[ 5.04685991e-05, -1.02089697e-05, -4.41139207e-08],\n",
       "       [-1.02089697e-05,  4.77901478e-05, -1.48577669e-07],\n",
       "       [-4.41139207e-08, -1.48577669e-07,  2.74067687e-08]])\n",
       "      jac: array([-0.00030518,  0.0010376 , -0.00164795])\n",
       "  message: 'Optimization terminated successfully.'\n",
       "     nfev: 152\n",
       "      nit: 24\n",
       "     njev: 38\n",
       "   status: 0\n",
       "  success: True\n",
       "        x: array([0.0696009 , 0.2573429 , 0.01303487])"
      ]
     },
     "execution_count": 183,
     "metadata": {},
     "output_type": "execute_result"
    }
   ],
   "source": [
    "dd"
   ]
  },
  {
   "cell_type": "code",
   "execution_count": 187,
   "id": "5ddf7a9d",
   "metadata": {},
   "outputs": [
    {
     "data": {
      "text/plain": [
       "array([ 450,  450,  450, ..., 1060, 1060, 1060])"
      ]
     },
     "execution_count": 187,
     "metadata": {},
     "output_type": "execute_result"
    }
   ],
   "source": [
    "data['self_x'].values"
   ]
  },
  {
   "cell_type": "code",
   "execution_count": null,
   "id": "26645288",
   "metadata": {},
   "outputs": [],
   "source": []
  }
 ],
 "metadata": {
  "kernelspec": {
   "display_name": "sa",
   "language": "python",
   "name": "sa"
  },
  "language_info": {
   "codemirror_mode": {
    "name": "ipython",
    "version": 3
   },
   "file_extension": ".py",
   "mimetype": "text/x-python",
   "name": "python",
   "nbconvert_exporter": "python",
   "pygments_lexer": "ipython3",
   "version": "3.8.12"
  }
 },
 "nbformat": 4,
 "nbformat_minor": 5
}
