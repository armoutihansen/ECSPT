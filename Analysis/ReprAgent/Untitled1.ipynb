{
 "cells": [
  {
   "cell_type": "code",
   "execution_count": 18,
   "id": "e965faaa-fc23-4738-a362-9a3044955ac8",
   "metadata": {},
   "outputs": [],
   "source": [
    "import numpy as np\n",
    "import pandas as pd\n",
    "from scipy.special import softmax, log_softmax\n",
    "from scipy.optimize import minimize\n",
    "from sklearn.metrics import log_loss\n",
    "sys.path.insert(0,'..')\n",
    "from custom_funcs import split"
   ]
  },
  {
   "cell_type": "code",
   "execution_count": 2,
   "id": "53d42eb1-2e1c-4641-8444-d2ed0e5991a4",
   "metadata": {},
   "outputs": [],
   "source": [
    "def ll(params, data):\n",
    "    \n",
    "    y = data['choice_x']\n",
    "    \n",
    "    pi_a_x = data['self_x']\n",
    "    pi_a_y = data['self_y']\n",
    "    pi_a_z = data['self_z']\n",
    "    \n",
    "    pi_b_x = data['other_x']\n",
    "    pi_b_y = data['other_y']\n",
    "    pi_b_z = data['other_z']\n",
    "    \n",
    "    i_B_x = data['s_x']\n",
    "    i_A_x = data['r_x']\n",
    "    i_B_y = data['s_y']\n",
    "    i_A_y = data['r_y']\n",
    "    i_K = data['q']\n",
    "    i_U = data['v']\n",
    "    \n",
    "    sigma = params[-1]\n",
    "    gamma_D = params[0]\n",
    "    gamma_A = params[1]\n",
    "    gamma_K = params[2]\n",
    "    gamma_U = params[3]\n",
    "    \n",
    "    u_x = sigma * (pi_a_x + (np.dot(gamma_D,i_B_x) + np.dot(gamma_A,i_A_x) + np.dot(gamma_K,i_K) + np.dot(gamma_U,i_U))*(pi_b_x-pi_a_x))\n",
    "    u_y = sigma * (pi_a_y + (np.dot(gamma_D,i_B_y) + np.dot(gamma_A,i_A_y) + np.dot(gamma_K,i_K) + np.dot(gamma_U,i_U))*(pi_b_y-pi_a_y))\n",
    "    \n",
    "    probs = log_softmax([u_x,u_y], axis=0).T[:,0]*y + log_softmax([u_x,u_y], axis=0).T[:,1]*(1-y)\n",
    "    \n",
    "    return -1*np.sum(probs)/len(data)"
   ]
  },
  {
   "cell_type": "code",
   "execution_count": 4,
   "id": "7276c61a-a8b4-418d-bb8f-430831d70303",
   "metadata": {},
   "outputs": [],
   "source": [
    "data = pd.read_csv(\"../Data/choices_exp1_ext.csv\")[['sid','choice_x','self_x','other_x','self_y','other_y','s_x','s_y','r_x','r_y','q','v','self_z','other_z']]"
   ]
  },
  {
   "cell_type": "code",
   "execution_count": 5,
   "id": "82316c80-d113-4d15-a8d3-6dc5e1335275",
   "metadata": {},
   "outputs": [],
   "source": [
    "params0 = [np.random.uniform(-1,1),np.random.uniform(-1,1),np.random.uniform(-1,1),np.random.uniform(-1,1),np.random.uniform(0,1)]\n",
    "res = minimize(ll, params0, args=(data), method='BFGS')"
   ]
  },
  {
   "cell_type": "code",
   "execution_count": 6,
   "id": "b551ee5a-e18a-4cd0-8887-e3b33c595d90",
   "metadata": {},
   "outputs": [
    {
     "data": {
      "text/plain": [
       "      fun: 0.34720427143068305\n",
       " hess_inv: array([[ 1.88315844e+00,  5.42281488e-01, -1.15521352e+00,\n",
       "        -1.11739526e+00, -1.01479837e-03],\n",
       "       [ 5.42281488e-01,  1.72027142e+00, -1.14060448e+00,\n",
       "        -1.13037172e+00, -2.67469380e-03],\n",
       "       [-1.15521352e+00, -1.14060448e+00,  2.29191066e+00,\n",
       "         1.12052199e+00, -9.60438516e-04],\n",
       "       [-1.11739526e+00, -1.13037172e+00,  1.12052199e+00,\n",
       "         2.34615168e+00,  1.07566549e-04],\n",
       "       [-1.01479837e-03, -2.67469380e-03, -9.60438516e-04,\n",
       "         1.07566549e-04,  5.46797933e-04]])\n",
       "      jac: array([2.08616257e-07, 2.23517418e-08, 7.07805157e-08, 1.00582838e-07,\n",
       "       3.30060720e-06])\n",
       "  message: 'Optimization terminated successfully.'\n",
       "     nfev: 186\n",
       "      nit: 25\n",
       "     njev: 31\n",
       "   status: 0\n",
       "  success: True\n",
       "        x: array([ 0.06024055,  0.24828061,  0.07248044, -0.04791558,  0.01314331])"
      ]
     },
     "execution_count": 6,
     "metadata": {},
     "output_type": "execute_result"
    }
   ],
   "source": [
    "res"
   ]
  },
  {
   "cell_type": "code",
   "execution_count": 52,
   "id": "0d39ef5c-6cd0-40e6-9de4-af1f169cc836",
   "metadata": {},
   "outputs": [],
   "source": [
    "def ll(params, data):\n",
    "    \n",
    "    y = data['choice_x']\n",
    "    \n",
    "    pi_a_x = data['self_x']\n",
    "    pi_a_y = data['self_y']\n",
    "    pi_a_z = data['self_z']\n",
    "    \n",
    "    pi_b_x = data['other_x']\n",
    "    pi_b_y = data['other_y']\n",
    "    pi_b_z = data['other_z']\n",
    "    \n",
    "    i_B_x = data['s_x']\n",
    "    i_A_x = data['r_x']\n",
    "    i_B_y = data['s_y']\n",
    "    i_A_y = data['r_y']\n",
    "    i_K = data['q']\n",
    "    i_U = data['v']\n",
    "    \n",
    "    sigma = params[-1]\n",
    "    gamma_D = params[0]\n",
    "    gamma_A = params[1]\n",
    "    gamma_K = params[2]\n",
    "    gamma_K_1 = params[3]\n",
    "    gamma_U = params[4]\n",
    "    gamma_U_1 = params[5]\n",
    "    \n",
    "    #u_x = sigma * (pi_a_x + (i_B_x*gamma_D + i_A_x*gamma_A + i_K*(gamma_K_1 + gamma_K_2*(pi_b_z - pi_b_x)) + i_U*(gamma_U_1 + gamma_U_2*(pi_b_z - pi_b_x)))*(pi_b_x-pi_a_x))\n",
    "    #u_y = sigma * (pi_a_y + (i_B_y*gamma_D + i_A_y*gamma_A + i_K*(gamma_K_1 + gamma_K_2*(pi_b_z - pi_b_y)) + i_U*(gamma_U_1 + gamma_U_2*(pi_b_z - pi_b_y)))*(pi_b_y-pi_a_y))\n",
    "    \n",
    "    u_x = sigma * (pi_a_x + (np.dot(gamma_D,i_B_x) + np.dot(gamma_A,i_A_x) + np.dot(gamma_K,i_K) + np.dot(gamma_K_1,i_K)*(pi_b_z-pi_b_x) +\n",
    "                             np.dot(gamma_U,i_U)+ np.dot(gamma_U_1,i_U)*(pi_b_z-pi_b_x))*(pi_b_x-pi_a_x))\n",
    "    u_y = sigma * (pi_a_y + (np.dot(gamma_D,i_B_y) + np.dot(gamma_A,i_A_y) + np.dot(gamma_K,i_K) + np.dot(gamma_K_1,i_K)*(pi_b_z-pi_b_y) +\n",
    "                             np.dot(gamma_U,i_U)+ np.dot(gamma_U_1,i_U)*(pi_b_z-pi_b_y))*(pi_b_y-pi_a_y))\n",
    "    \n",
    "    probs = log_softmax([u_x,u_y], axis=0).T[:,0]*y + log_softmax([u_x,u_y], axis=0).T[:,1]*(1-y)\n",
    "    \n",
    "    return -1*np.sum(probs)/len(data)"
   ]
  },
  {
   "cell_type": "code",
   "execution_count": 53,
   "id": "87351ec6-bcb3-46d8-ab26-e986f8e4c419",
   "metadata": {},
   "outputs": [],
   "source": [
    "params0 = [np.random.uniform(-1,1),np.random.uniform(-1,1),np.random.uniform(-1,1),np.random.uniform(-1,1),np.random.uniform(-1,1),np.random.uniform(-1,1),np.random.uniform(0,1)]\n",
    "res = minimize(ll, params0, args=(data), method='BFGS')"
   ]
  },
  {
   "cell_type": "code",
   "execution_count": 54,
   "id": "66fcc14b-d05c-48cb-b6a7-6b9b7eaa9324",
   "metadata": {},
   "outputs": [
    {
     "data": {
      "text/plain": [
       "      fun: 0.6825076711256767\n",
       " hess_inv: array([[ 6.65408015e+02,  7.40401544e+02,  2.12972675e+01,\n",
       "         8.65533546e+01,  1.42047008e+01,  1.03419277e+02,\n",
       "        -5.57164138e-04],\n",
       "       [ 7.40401544e+02,  8.26087476e+02,  2.37334070e+01,\n",
       "         9.64509155e+01,  1.58293832e+01,  1.15245839e+02,\n",
       "        -6.21074646e-04],\n",
       "       [ 2.12972675e+01,  2.37334070e+01,  1.68277044e+00,\n",
       "         2.77305874e+00,  4.55314636e-01,  3.31451992e+00,\n",
       "        -1.79461774e-05],\n",
       "       [ 8.65533546e+01,  9.64509155e+01,  2.77305874e+00,\n",
       "         1.12746869e+01,  1.85056223e+00,  1.34716907e+01,\n",
       "        -7.25901454e-05],\n",
       "       [ 1.42047008e+01,  1.58293832e+01,  4.55314636e-01,\n",
       "         1.85056223e+00,  1.30368953e+00,  2.21191840e+00,\n",
       "        -1.19016243e-05],\n",
       "       [ 1.03419277e+02,  1.15245839e+02,  3.31451992e+00,\n",
       "         1.34716907e+01,  2.21191840e+00,  1.60968227e+01,\n",
       "        -8.67358045e-05],\n",
       "       [-5.57164138e-04, -6.21074646e-04, -1.79461774e-05,\n",
       "        -7.25901454e-05, -1.19016243e-05, -8.67358045e-05,\n",
       "         1.92921329e-09]])\n",
       "      jac: array([ 1.68532133e-05, -1.56685710e-05, -1.61826611e-05, -4.80182469e-04,\n",
       "        1.81794167e-06,  3.96005809e-04,  4.51990084e+00])\n",
       "  message: 'Desired error not necessarily achieved due to precision loss.'\n",
       "     nfev: 708\n",
       "      nit: 21\n",
       "     njev: 87\n",
       "   status: 2\n",
       "  success: False\n",
       "        x: array([ 3.05386449e+00,  3.70075911e+00,  1.98112983e-01, -1.66247873e-01,\n",
       "        2.86095216e-02,  6.27167136e-01,  4.83485429e-06])"
      ]
     },
     "execution_count": 54,
     "metadata": {},
     "output_type": "execute_result"
    }
   ],
   "source": [
    "res"
   ]
  },
  {
   "cell_type": "code",
   "execution_count": 16,
   "id": "1a4e7768-303c-467f-86f4-cf130d720bd2",
   "metadata": {},
   "outputs": [],
   "source": [
    "def predict(params, data):\n",
    "    \n",
    "    y = data['choice_x']\n",
    "    \n",
    "    pi_a_x = data['self_x']\n",
    "    pi_a_y = data['self_y']\n",
    "    pi_a_z = data['self_z']\n",
    "    \n",
    "    pi_b_x = data['other_x']\n",
    "    pi_b_y = data['other_y']\n",
    "    pi_b_z = data['other_z']\n",
    "    \n",
    "    i_B_x = data['s_x']\n",
    "    i_A_x = data['r_x']\n",
    "    i_B_y = data['s_y']\n",
    "    i_A_y = data['r_y']\n",
    "    i_K = data['q']\n",
    "    i_U = data['v']\n",
    "    \n",
    "    sigma = params[-1]\n",
    "    gamma_D = params[0]\n",
    "    gamma_A = params[1]\n",
    "    gamma_K = params[2]\n",
    "    gamma_K_1 = params[3]\n",
    "    gamma_U = params[4]\n",
    "    gamma_U_1 = params[5]\n",
    "    \n",
    "    u_x = sigma * (pi_a_x + (np.dot(gamma_D,i_B_x) + np.dot(gamma_A,i_A_x) + np.dot(gamma_K,i_K) + np.dot(gamma_K_1,i_K)*(pi_b_z-pi_b_x) +\n",
    "                             np.dot(gamma_U,i_U)+ np.dot(gamma_U_1,i_U)*(pi_b_z-pi_b_x))*(pi_b_x-pi_a_x))\n",
    "    u_y = sigma * (pi_a_y + (np.dot(gamma_D,i_B_y) + np.dot(gamma_A,i_A_y) + np.dot(gamma_K,i_K) + np.dot(gamma_K_1,i_K)*(pi_b_z-pi_b_y) +\n",
    "                             np.dot(gamma_U,i_U)+ np.dot(gamma_U_1,i_U)*(pi_b_z-pi_b_y))*(pi_b_y-pi_a_y))\n",
    "    \n",
    "   # probs = log_softmax([u_x,u_y], axis=0).T[:,0]*y + log_softmax([u_x,u_y], axis=0).T[:,1]*(1-y)\n",
    "    preds = softmax([u_x,u_y], axis=0).T[:,0]\n",
    "    return preds\n",
    "    #return -1*np.sum(probs)/len(data)"
   ]
  },
  {
   "cell_type": "code",
   "execution_count": 19,
   "id": "ec8791af-ce46-42ab-8f26-8fef04c10a00",
   "metadata": {},
   "outputs": [],
   "source": [
    "train, test, iterations, ps = split(data)"
   ]
  },
  {
   "cell_type": "code",
   "execution_count": 20,
   "id": "77be3985-9aab-42e2-b5c4-11776135ae76",
   "metadata": {},
   "outputs": [],
   "source": [
    "params0 = [np.random.uniform(-1,1),np.random.uniform(-1,1),np.random.uniform(-1,1),np.random.uniform(-1,1),np.random.uniform(-1,1),np.random.uniform(-1,1),np.random.uniform(0,1)]\n",
    "res = minimize(ll, params0, args=(train), method='BFGS')"
   ]
  },
  {
   "cell_type": "code",
   "execution_count": 21,
   "id": "e2c5935c-2ff5-43b7-b530-ef5f5933ecea",
   "metadata": {},
   "outputs": [],
   "source": [
    "y_pred = predict(res.x, test)"
   ]
  },
  {
   "cell_type": "code",
   "execution_count": 23,
   "id": "db8d3fcf-07b5-4391-ae9a-27631c0bbc6c",
   "metadata": {},
   "outputs": [
    {
     "data": {
      "text/plain": [
       "0.34347155864880075"
      ]
     },
     "execution_count": 23,
     "metadata": {},
     "output_type": "execute_result"
    }
   ],
   "source": [
    "log_loss(test['choice_x'],y_pred, labels=[0,1])"
   ]
  },
  {
   "cell_type": "code",
   "execution_count": 24,
   "id": "7e0a84b4-91ad-47fd-9f7b-455f9939cf05",
   "metadata": {},
   "outputs": [
    {
     "data": {
      "text/plain": [
       "      fun: 0.3478714401620151\n",
       " hess_inv: array([[ 2.12519746e+00,  5.22701478e-02, -1.37334265e+00,\n",
       "         1.57749875e-03, -5.82533979e-01,  1.87206580e-03,\n",
       "        -1.93565091e-03],\n",
       "       [ 5.22701478e-02,  1.99302331e+00, -6.86087440e-01,\n",
       "        -1.65351569e-03, -1.38978398e+00, -1.61776787e-03,\n",
       "        -2.60391150e-03],\n",
       "       [-1.37334265e+00, -6.86087440e-01,  2.43328959e+00,\n",
       "        -1.87133617e-03,  8.58608814e-01, -5.01961305e-04,\n",
       "         4.10728705e-04],\n",
       "       [ 1.57749875e-03, -1.65351569e-03, -1.87133617e-03,\n",
       "         8.12582262e-06,  6.81516810e-04,  2.47364012e-06,\n",
       "         5.20410182e-06],\n",
       "       [-5.82533979e-01, -1.38978398e+00,  8.58608814e-01,\n",
       "         6.81516810e-04,  2.50012730e+00,  1.95660304e-03,\n",
       "        -3.08267335e-04],\n",
       "       [ 1.87206580e-03, -1.61776787e-03, -5.01961305e-04,\n",
       "         2.47364012e-06,  1.95660304e-03,  8.59828849e-06,\n",
       "        -7.42924295e-06],\n",
       "       [-1.93565091e-03, -2.60391150e-03,  4.10728705e-04,\n",
       "         5.20410182e-06, -3.08267335e-04, -7.42924295e-06,\n",
       "         4.95551475e-04]])\n",
       "      jac: array([-3.72529030e-09, -7.45058060e-09,  1.49011612e-08,  6.66454434e-06,\n",
       "       -3.72529030e-09,  3.35276127e-08,  2.60770321e-08])\n",
       "  message: 'Optimization terminated successfully.'\n",
       "     nfev: 816\n",
       "      nit: 57\n",
       "     njev: 102\n",
       "   status: 0\n",
       "  success: True\n",
       "        x: array([ 3.47588999e-02,  2.74018992e-01,  9.69825412e-02, -1.19896861e-04,\n",
       "       -5.05605485e-02, -3.71466710e-05,  1.30862459e-02])"
      ]
     },
     "execution_count": 24,
     "metadata": {},
     "output_type": "execute_result"
    }
   ],
   "source": [
    "res"
   ]
  },
  {
   "cell_type": "code",
   "execution_count": null,
   "id": "67290679-c099-45b6-ad80-aeb6b7646690",
   "metadata": {},
   "outputs": [],
   "source": []
  }
 ],
 "metadata": {
  "kernelspec": {
   "display_name": "Python 3 (ipykernel)",
   "language": "python",
   "name": "python3"
  },
  "language_info": {
   "codemirror_mode": {
    "name": "ipython",
    "version": 3
   },
   "file_extension": ".py",
   "mimetype": "text/x-python",
   "name": "python",
   "nbconvert_exporter": "python",
   "pygments_lexer": "ipython3",
   "version": "3.8.12"
  }
 },
 "nbformat": 4,
 "nbformat_minor": 5
}
